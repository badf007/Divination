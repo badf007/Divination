{
    "cells": [
        {
            "cell_type": "markdown",
            "source": [
                "Install beautifulSoup library: `pip install beautifulsoup4`\r\n",
                "Install MySQL library: `pip install mysql-connector-python`\r\n"
            ],
            "metadata": {}
        },
        {
            "cell_type": "code",
            "execution_count": 8,
            "source": [
                "from bs4 import BeautifulSoup\r\n",
                "import mysql.connector\r\n",
                "import datetime"
            ],
            "outputs": [],
            "metadata": {}
        },
        {
            "cell_type": "markdown",
            "source": [
                "Esta pagina https://www.conectate.com.do/loterias/?date=08-08-2011\r\n",
                "tiene los resultados hasta mas o menos inicios de 2011 y utiliza un metodo GET en la URL bastante facil de automatizar"
            ],
            "metadata": {}
        },
        {
            "cell_type": "code",
            "execution_count": 9,
            "source": [
                "BASE_URL = \"https://www.conectate.com.do/loterias/\"\r\n",
                "\r\n",
                "\r\n",
                "\r\n",
                "\r\n",
                "dt = datetime.datetime(2021, 8, 9)\r\n",
                "end = datetime.datetime(2011, 1, 1)\r\n",
                "step = datetime.timedelta(days=1)\r\n",
                "\r\n",
                "result = []\r\n",
                "\r\n",
                "while dt < end:\r\n",
                "    result.append(dt.strftime('%Y-%m-%d'))\r\n",
                "    dt -= step\r\n",
                "    print(\"fucking prueba\")\r\n",
                "    print(dt)\r\n",
                "\r\n",
                "print(result)\r\n",
                "print(\"fucking work\")"
            ],
            "outputs": [
                {
                    "output_type": "stream",
                    "name": "stdout",
                    "text": [
                        "[]\n"
                    ]
                }
            ],
            "metadata": {}
        }
    ],
    "metadata": {
        "orig_nbformat": 4,
        "language_info": {
            "name": "python",
            "version": "3.9.6",
            "mimetype": "text/x-python",
            "codemirror_mode": {
                "name": "ipython",
                "version": 3
            },
            "pygments_lexer": "ipython3",
            "nbconvert_exporter": "python",
            "file_extension": ".py"
        },
        "kernelspec": {
            "name": "python3",
            "display_name": "Python 3.9.6 64-bit"
        },
        "interpreter": {
            "hash": "63fd5069d213b44bf678585dea6b12cceca9941eaf7f819626cde1f2670de90d"
        }
    },
    "nbformat": 4,
    "nbformat_minor": 2
}